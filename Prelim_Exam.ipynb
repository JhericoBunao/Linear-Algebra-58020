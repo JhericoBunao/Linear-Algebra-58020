{
  "nbformat": 4,
  "nbformat_minor": 0,
  "metadata": {
    "colab": {
      "name": "Prelim Exam.ipynb",
      "provenance": [],
      "collapsed_sections": [],
      "authorship_tag": "ABX9TyN3nBFyfUqeOgM19mpAJi9F",
      "include_colab_link": true
    },
    "kernelspec": {
      "name": "python3",
      "display_name": "Python 3"
    },
    "language_info": {
      "name": "python"
    }
  },
  "cells": [
    {
      "cell_type": "markdown",
      "metadata": {
        "id": "view-in-github",
        "colab_type": "text"
      },
      "source": [
        "<a href=\"https://colab.research.google.com/github/JhericoBunao/Linear-Algebra-58020/blob/main/Prelim_Exam.ipynb\" target=\"_parent\"><img src=\"https://colab.research.google.com/assets/colab-badge.svg\" alt=\"Open In Colab\"/></a>"
      ]
    },
    {
      "cell_type": "markdown",
      "metadata": {
        "id": "QFjIh2K7iwY0"
      },
      "source": [
        "**BUNAO JHERICO MARVIN J. / 201912702 / LINEAR ALGEBRA FOR COMPUTER ENGINEERING LAB 0700-1000**"
      ]
    },
    {
      "cell_type": "markdown",
      "metadata": {
        "id": "9sZxuiHlnrmA"
      },
      "source": [
        "**Question 1: matrix \"C\"**"
      ]
    },
    {
      "cell_type": "code",
      "metadata": {
        "colab": {
          "base_uri": "https://localhost:8080/"
        },
        "id": "_WsTBjgAi9tf",
        "outputId": "96ed8e3a-de13-457d-c7f7-a609a5c39e08"
      },
      "source": [
        "#Create a 4x4 Matrix...\n",
        "import numpy as np\n",
        "C = np.array([[1,2,3,5],[4,1,6,1],[7,8,1,2],[1,8,4,1]])\n",
        "print(C)\n",
        "\n",
        "print(\"This is the 1\\'s values included in diagonal\")\n",
        "C = np.diagonal([[1,2,3,5],[4,1,6,1],[7,8,1,2],[1,8,4,1]])\n",
        "print(C)"
      ],
      "execution_count": 33,
      "outputs": [
        {
          "output_type": "stream",
          "name": "stdout",
          "text": [
            "[[1 2 3 5]\n",
            " [4 1 6 1]\n",
            " [7 8 1 2]\n",
            " [1 8 4 1]]\n",
            "This is the 1's values included in diagonal\n",
            "[1 1 1 1]\n"
          ]
        }
      ]
    },
    {
      "cell_type": "markdown",
      "metadata": {
        "id": "Lo9CikvOkeAp"
      },
      "source": [
        "**Question 2. doubles all the values of each element**"
      ]
    },
    {
      "cell_type": "code",
      "metadata": {
        "colab": {
          "base_uri": "https://localhost:8080/"
        },
        "id": "Nb-HnohGklZI",
        "outputId": "a210d4cd-8f8b-4235-979e-df991502f3f1"
      },
      "source": [
        "#Doubles all values of eax element\n",
        "C = np.array([[1,2,3,5],[4,1,6,1],[7,8,1,2],[1,8,4,1]])\n",
        "print(\"This is the Original Copy of Elemets from Q1.\")\n",
        "print(C)\n",
        "\n",
        "print(\"here's The x2 value of the Elements from Q1.\")\n",
        "letsdoubleit = C*2\n",
        "print(letsdoubleit)"
      ],
      "execution_count": 32,
      "outputs": [
        {
          "output_type": "stream",
          "name": "stdout",
          "text": [
            "This is the Original Copy of Elemets from Q1.\n",
            "[[1 2 3 5]\n",
            " [4 1 6 1]\n",
            " [7 8 1 2]\n",
            " [1 8 4 1]]\n",
            "here's The x2 value of the Elements from Q1.\n",
            "[[ 2  4  6 10]\n",
            " [ 8  2 12  2]\n",
            " [14 16  2  4]\n",
            " [ 2 16  8  2]]\n"
          ]
        }
      ]
    },
    {
      "cell_type": "markdown",
      "metadata": {
        "id": "QZDA3fERl3TZ"
      },
      "source": [
        "**Question 3, Find the cross Prdouct.**"
      ]
    },
    {
      "cell_type": "code",
      "metadata": {
        "colab": {
          "base_uri": "https://localhost:8080/"
        },
        "id": "tXomnTH2lltJ",
        "outputId": "cdd4e738-480b-4365-ee8a-bd7d23c1e29f"
      },
      "source": [
        "#Question 3, Find the cross Prdouct.\n",
        "import numpy as np\n",
        "A = np.array([2,7,4])\n",
        "B = np.array([3,9,8])\n",
        "print(\"Here's the original value of given matrices\")\n",
        "print(A,B)\n",
        "\n",
        "print(\"Here's the Cross Product of matrices\")\n",
        "#Solution for Computing Cross Product.\n",
        "output = np.cross(A,B)\n",
        "print(output)"
      ],
      "execution_count": 31,
      "outputs": [
        {
          "output_type": "stream",
          "name": "stdout",
          "text": [
            "Here's the original value of given matrices\n",
            "[2 7 4] [3 9 8]\n",
            "Here's the Cross Product of matrices\n",
            "[20 -4 -3]\n"
          ]
        }
      ]
    }
  ]
}
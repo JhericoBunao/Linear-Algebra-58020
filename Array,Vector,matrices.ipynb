{
  "nbformat": 4,
  "nbformat_minor": 0,
  "metadata": {
    "colab": {
      "name": "Array,Vector,matrices",
      "provenance": [],
      "collapsed_sections": [],
      "authorship_tag": "ABX9TyPkJJrpso+jsL0SFqoCsYcg",
      "include_colab_link": true
    },
    "kernelspec": {
      "name": "python3",
      "display_name": "Python 3"
    },
    "language_info": {
      "name": "python"
    }
  },
  "cells": [
    {
      "cell_type": "markdown",
      "metadata": {
        "id": "view-in-github",
        "colab_type": "text"
      },
      "source": [
        "<a href=\"https://colab.research.google.com/github/JhericoBunao/jhericobunao/blob/main/Array%2CVector%2Cmatrices.ipynb\" target=\"_parent\"><img src=\"https://colab.research.google.com/assets/colab-badge.svg\" alt=\"Open In Colab\"/></a>"
      ]
    },
    {
      "cell_type": "code",
      "metadata": {
        "colab": {
          "base_uri": "https://localhost:8080/"
        },
        "id": "sxFpPNpXoPJj",
        "outputId": "bd26e1a0-a736-4306-cd7e-03bcd4e2f1e6"
      },
      "source": [
        "import numpy as np\n",
        "#create a 1x3 array\n",
        "a = np.array([1,2,3])\n",
        "print(a)"
      ],
      "execution_count": 1,
      "outputs": [
        {
          "output_type": "stream",
          "name": "stdout",
          "text": [
            "[1 2 3]\n"
          ]
        }
      ]
    },
    {
      "cell_type": "code",
      "metadata": {
        "colab": {
          "base_uri": "https://localhost:8080/"
        },
        "id": "8eblSjbQvBW-",
        "outputId": "7a9733e0-33be-45cb-cded-ee8b53144372"
      },
      "source": [
        "#create a 2x3 matrix\n",
        "b = np.array([[1,2,3],[4,5,6]])\n",
        "print(b)"
      ],
      "execution_count": 3,
      "outputs": [
        {
          "output_type": "stream",
          "name": "stdout",
          "text": [
            "[[1 2 3]\n",
            " [4 5 6]]\n"
          ]
        }
      ]
    },
    {
      "cell_type": "code",
      "metadata": {
        "colab": {
          "base_uri": "https://localhost:8080/"
        },
        "id": "-rDIcqWUvk7F",
        "outputId": "0dd2aff6-4202-4cb3-97ba-da11109740cb"
      },
      "source": [
        "#create a 3x3 matrix\n",
        "c = np.array([[1,2,3],[4,5,6],[7,8,9]])\n",
        "print(c)"
      ],
      "execution_count": 4,
      "outputs": [
        {
          "output_type": "stream",
          "name": "stdout",
          "text": [
            "[[1 2 3]\n",
            " [4 5 6]\n",
            " [7 8 9]]\n"
          ]
        }
      ]
    },
    {
      "cell_type": "code",
      "metadata": {
        "colab": {
          "base_uri": "https://localhost:8080/"
        },
        "id": "UpuuTubpvwuV",
        "outputId": "0fe98271-e338-4826-9b31-ee790630babf"
      },
      "source": [
        "#create a constant array with all values = 6 \n",
        "d =np.full((4,4),6)\n",
        "print(d)"
      ],
      "execution_count": 6,
      "outputs": [
        {
          "output_type": "stream",
          "name": "stdout",
          "text": [
            "[[6 6 6 6]\n",
            " [6 6 6 6]\n",
            " [6 6 6 6]\n",
            " [6 6 6 6]]\n"
          ]
        }
      ]
    },
    {
      "cell_type": "code",
      "metadata": {
        "colab": {
          "base_uri": "https://localhost:8080/"
        },
        "id": "qbFx7CDQwNw-",
        "outputId": "9237dccb-2367-4e21-ee54-1da255789f27"
      },
      "source": [
        "#create a diagonal matrix\n",
        "e = np.array([[1,2,3],[4,5,6],[7,8,9]])\n",
        "print(e)\n",
        "e = np.diagonal([[1,2,3],[4,5,6],[7,8,9]])\n",
        "print(e)"
      ],
      "execution_count": 9,
      "outputs": [
        {
          "output_type": "stream",
          "name": "stdout",
          "text": [
            "[[1 2 3]\n",
            " [4 5 6]\n",
            " [7 8 9]]\n",
            "[1 5 9]\n"
          ]
        }
      ]
    },
    {
      "cell_type": "code",
      "metadata": {
        "colab": {
          "base_uri": "https://localhost:8080/"
        },
        "id": "IKECmh38wnBG",
        "outputId": "babea801-6099-42c8-9599-b473a14e0f03"
      },
      "source": [
        "#addition of matrix\n",
        "#create a 3x3 matrix\n",
        "f = np.array([[1,2,3],[4,5,6]])\n",
        "g = np.array([[1,2,3],[4,5,6]])\n",
        "print(f+g)"
      ],
      "execution_count": 10,
      "outputs": [
        {
          "output_type": "stream",
          "name": "stdout",
          "text": [
            "[[ 2  4  6]\n",
            " [ 8 10 12]]\n"
          ]
        }
      ]
    },
    {
      "cell_type": "code",
      "metadata": {
        "colab": {
          "base_uri": "https://localhost:8080/"
        },
        "id": "Hex9scKEw0Xl",
        "outputId": "dae39f9a-65c3-4ce5-c6eb-b0520be7ba34"
      },
      "source": [
        "#addition of matrix\n",
        "#create a 3x3 matrix\n",
        "f = np.array([[1,2,3],[4,5,6]])\n",
        "g = np.array([[1,2,3],[4,5,6]])\n",
        "print(f-g)"
      ],
      "execution_count": 11,
      "outputs": [
        {
          "output_type": "stream",
          "name": "stdout",
          "text": [
            "[[0 0 0]\n",
            " [0 0 0]]\n"
          ]
        }
      ]
    }
  ]
}
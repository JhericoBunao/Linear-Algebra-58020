{
  "nbformat": 4,
  "nbformat_minor": 0,
  "metadata": {
    "colab": {
      "name": "Assessment_Determinant_of_Matrix",
      "provenance": [],
      "authorship_tag": "ABX9TyNL3wlFOTu7q8K03b4Fy4ra",
      "include_colab_link": true
    },
    "kernelspec": {
      "name": "python3",
      "display_name": "Python 3"
    },
    "language_info": {
      "name": "python"
    }
  },
  "cells": [
    {
      "cell_type": "markdown",
      "metadata": {
        "id": "view-in-github",
        "colab_type": "text"
      },
      "source": [
        "<a href=\"https://colab.research.google.com/github/JhericoBunao/Linear-Algebra-58020/blob/main/Assessment_Determinant_of_Matrix.ipynb\" target=\"_parent\"><img src=\"https://colab.research.google.com/assets/colab-badge.svg\" alt=\"Open In Colab\"/></a>"
      ]
    },
    {
      "cell_type": "markdown",
      "metadata": {
        "id": "z3kLTo4NcJHA"
      },
      "source": [
        "**Week 9 Assessment (Determinant_of_Matrix)** "
      ]
    },
    {
      "cell_type": "code",
      "metadata": {
        "colab": {
          "base_uri": "https://localhost:8080/"
        },
        "id": "5F1pTOTrbXiF",
        "outputId": "c8b1af9e-67cd-4033-cab2-720c36d119e6"
      },
      "source": [
        "import numpy as np\n",
        "A = np.array([[1,2,-1],[4,6,-2],[-1,3,3]])\n",
        "print(\"This is the given Matrix\")\n",
        "print(A)\n",
        "print(\"The Determinant of Matrix A is\")\n",
        "print(np.linalg.det(A)) \n",
        "print(\"This is the Rounded answer of Matrix\")\n",
        "print(round(np.linalg.det(A)))"
      ],
      "execution_count": 6,
      "outputs": [
        {
          "output_type": "stream",
          "name": "stdout",
          "text": [
            "This is the given Matrix\n",
            "[[ 1  2 -1]\n",
            " [ 4  6 -2]\n",
            " [-1  3  3]]\n",
            "The Determinant of Matrix A is\n",
            "-13.999999999999996\n",
            "This is the Rounded answer of Matrix\n",
            "-14\n"
          ]
        }
      ]
    }
  ]
}
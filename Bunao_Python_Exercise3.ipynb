{
  "nbformat": 4,
  "nbformat_minor": 0,
  "metadata": {
    "colab": {
      "name": "Bunao_Python_Exercise3.ipynb",
      "provenance": [],
      "authorship_tag": "ABX9TyORI916iBtm6IqUak1Avk2O",
      "include_colab_link": true
    },
    "kernelspec": {
      "name": "python3",
      "display_name": "Python 3"
    },
    "language_info": {
      "name": "python"
    }
  },
  "cells": [
    {
      "cell_type": "markdown",
      "metadata": {
        "id": "view-in-github",
        "colab_type": "text"
      },
      "source": [
        "<a href=\"https://colab.research.google.com/github/JhericoBunao/Linear-Algebra-58020/blob/main/Bunao_Python_Exercise3.ipynb\" target=\"_parent\"><img src=\"https://colab.research.google.com/assets/colab-badge.svg\" alt=\"Open In Colab\"/></a>"
      ]
    },
    {
      "cell_type": "code",
      "metadata": {
        "id": "xgum9L5Kwdp3",
        "colab": {
          "base_uri": "https://localhost:8080/"
        },
        "outputId": "defafe79-5b4b-4cbf-893a-ef72965096be"
      },
      "source": [
        "import numpy as np \n",
        "\n",
        "A = np.array([[1,1,1],[1,2,2],[1,2,3]])\n",
        "\n",
        "inv_A = np.linalg.inv(A)\n",
        "\n",
        "B = np.array([[5],[6],[8]])\n",
        "\n",
        "#AA^-1x = BA^-1\n",
        "X = np.dot(inv_A,B)\n",
        "print(X)"
      ],
      "execution_count": 2,
      "outputs": [
        {
          "output_type": "stream",
          "name": "stdout",
          "text": [
            "[[ 4.]\n",
            " [-1.]\n",
            " [ 2.]]\n"
          ]
        }
      ]
    }
  ]
}
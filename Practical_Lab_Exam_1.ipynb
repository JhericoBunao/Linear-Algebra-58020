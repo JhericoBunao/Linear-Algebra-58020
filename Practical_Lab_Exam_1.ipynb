{
  "nbformat": 4,
  "nbformat_minor": 0,
  "metadata": {
    "colab": {
      "name": "Practical Lab Exam 1",
      "provenance": [],
      "authorship_tag": "ABX9TyNM7z98/ay4fvk3G60AXzh0",
      "include_colab_link": true
    },
    "kernelspec": {
      "name": "python3",
      "display_name": "Python 3"
    },
    "language_info": {
      "name": "python"
    }
  },
  "cells": [
    {
      "cell_type": "markdown",
      "metadata": {
        "id": "view-in-github",
        "colab_type": "text"
      },
      "source": [
        "<a href=\"https://colab.research.google.com/github/JhericoBunao/Linear-Algebra-58020/blob/main/Practical_Lab_Exam_1.ipynb\" target=\"_parent\"><img src=\"https://colab.research.google.com/assets/colab-badge.svg\" alt=\"Open In Colab\"/></a>"
      ]
    },
    {
      "cell_type": "markdown",
      "metadata": {
        "id": "qwMZisQT-mKT"
      },
      "source": [
        "**Practical Lab Exam 1**"
      ]
    },
    {
      "cell_type": "code",
      "metadata": {
        "colab": {
          "base_uri": "https://localhost:8080/"
        },
        "id": "7YD5JC5F-p5D",
        "outputId": "3bf12173-2c46-4cb9-f4bc-5e319260b307"
      },
      "source": [
        "import numpy as np\n",
        "# a.)WY =  W * Y\n",
        "W = np.array([[1,-3,],[2,-2],[3,1]])\n",
        "Y = np.array([[1,2,0],[0,-1,2]])\n",
        "print(np.dot(W,Y))"
      ],
      "execution_count": null,
      "outputs": [
        {
          "output_type": "stream",
          "name": "stdout",
          "text": [
            "[[ 1  5 -6]\n",
            " [ 2  6 -4]\n",
            " [ 3  5  2]]\n"
          ]
        }
      ]
    },
    {
      "cell_type": "code",
      "metadata": {
        "colab": {
          "base_uri": "https://localhost:8080/"
        },
        "id": "xp6bB9WsBGzc",
        "outputId": "563eedd9-ce15-4679-b66b-d0d5e6005dcb"
      },
      "source": [
        "# b.) Z+Z\n",
        "Z = np.array([[0,1],[2,3]])\n",
        "print(Z+Z)"
      ],
      "execution_count": null,
      "outputs": [
        {
          "output_type": "stream",
          "name": "stdout",
          "text": [
            "[[0 2]\n",
            " [4 6]]\n"
          ]
        }
      ]
    },
    {
      "cell_type": "code",
      "metadata": {
        "colab": {
          "base_uri": "https://localhost:8080/"
        },
        "id": "NtGQVYTnBbK7",
        "outputId": "fb89edc4-2d6d-4ed4-b0ba-10cba1c1b8c0"
      },
      "source": [
        "# C.) 3X = 3 multiply to \"X\"\n",
        "X = np.array([[3,2,1],[-1,2,3],[2,-1,1]])\n",
        "print(3*X)"
      ],
      "execution_count": null,
      "outputs": [
        {
          "output_type": "stream",
          "name": "stdout",
          "text": [
            "[[ 9  6  3]\n",
            " [-3  6  9]\n",
            " [ 6 -3  3]]\n"
          ]
        }
      ]
    },
    {
      "cell_type": "markdown",
      "metadata": {
        "id": "AWpy0z99Ctv8"
      },
      "source": [
        "**Problem 2.Which of the following statements is true?** **THE ANSWER IS LETTER B**\n",
        "\n",
        "---\n",
        "\n"
      ]
    },
    {
      "cell_type": "code",
      "metadata": {
        "colab": {
          "base_uri": "https://localhost:8080/"
        },
        "id": "Bl3EGUSNTPO3",
        "outputId": "67165bbe-5061-453a-9071-0d81f401646b"
      },
      "source": [
        "# a. The product (YW)2 is not defined.\n",
        "W = np.array([[1,-3,],[2,-2,],[3,1]])\n",
        "Y = np.array([[1,2,0],[0,-1,2]])\n",
        "\n",
        "YW = np.dot(Y,W)\n",
        "print(YW*YW)\n",
        "\n",
        "#Since it gave an output Letter \"a\" is FALSE"
      ],
      "execution_count": 62,
      "outputs": [
        {
          "output_type": "stream",
          "name": "stdout",
          "text": [
            "[[25 49]\n",
            " [16 16]]\n"
          ]
        }
      ]
    },
    {
      "cell_type": "code",
      "metadata": {
        "colab": {
          "base_uri": "https://localhost:8080/"
        },
        "id": "-4B5QBirH_YN",
        "outputId": "4024c1a0-06f3-44ce-bccc-41924b743d69"
      },
      "source": [
        "# b. WY – X =\n",
        "W = np.array([[1,-3,],[2,-2,],[3,1]])\n",
        "Y = np.array([[1,2,0],[0,-1,2]])\n",
        "X = np.array([[3,2,1],[-1,2,3],[2,-1,1]])\n",
        "Final = np.dot(W,Y)\n",
        "print(np.subtract(Final,X))\n",
        "\n",
        "# Option Letter 'b' is TRUE Because it has the same output as the given choices."
      ],
      "execution_count": 59,
      "outputs": [
        {
          "output_type": "stream",
          "name": "stdout",
          "text": [
            "[[-2  3 -7]\n",
            " [ 3  4 -7]\n",
            " [ 1  6  1]]\n"
          ]
        }
      ]
    },
    {
      "cell_type": "code",
      "metadata": {
        "colab": {
          "base_uri": "https://localhost:8080/"
        },
        "id": "H1i63gt6SJDH",
        "outputId": "39fc534b-249e-4fd0-a5f1-bf77500b65a2"
      },
      "source": [
        "# c. YW – Z^2 =\n",
        "W = np.array([[1,-3,],[2,-2,],[3,1]])\n",
        "Y = np.array([[1,2,0],[0,-1,2]])\n",
        "Z = np.array([[0,1],[2,3]])\n",
        "YW = np.dot(Y,W)\n",
        "FZ = Z**2\n",
        "print(np.subtract(YW,FZ))\n",
        "\n",
        "#Different from the given choices Letter C is FALSE"
      ],
      "execution_count": 60,
      "outputs": [
        {
          "output_type": "stream",
          "name": "stdout",
          "text": [
            "[[ 5 -8]\n",
            " [ 0 -5]]\n"
          ]
        }
      ]
    },
    {
      "cell_type": "markdown",
      "metadata": {
        "id": "C38SQNczUIqf"
      },
      "source": [
        "***THE FINAL ANSWER FOR NO.2 IS LETTER \"b\" b Is TRUE***"
      ]
    }
  ]
}
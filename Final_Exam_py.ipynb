{
  "nbformat": 4,
  "nbformat_minor": 0,
  "metadata": {
    "colab": {
      "name": "Final_Exam.py",
      "provenance": [],
      "authorship_tag": "ABX9TyOFokUB6ftiBKoq7cDNt69d",
      "include_colab_link": true
    },
    "kernelspec": {
      "name": "python3",
      "display_name": "Python 3"
    },
    "language_info": {
      "name": "python"
    }
  },
  "cells": [
    {
      "cell_type": "markdown",
      "metadata": {
        "id": "view-in-github",
        "colab_type": "text"
      },
      "source": [
        "<a href=\"https://colab.research.google.com/github/JhericoBunao/Linear-Algebra-58020/blob/main/Final_Exam_py.ipynb\" target=\"_parent\"><img src=\"https://colab.research.google.com/assets/colab-badge.svg\" alt=\"Open In Colab\"/></a>"
      ]
    },
    {
      "cell_type": "markdown",
      "source": [
        "##Problem 2. Solve each system##"
      ],
      "metadata": {
        "id": "uj4yTuN5NIjI"
      }
    },
    {
      "cell_type": "code",
      "source": [
        "#Problem 2. Solve each system\n",
        "#error program\n",
        "\n",
        "import numpy as np\n",
        "A = np.array([3,-1,1], [9,-3,3], [-12,4,-4]]) #This is the given values for matrix \n",
        "B = np.array([8, 30, 108])\n",
        "C = np.linalg.solve(A,B)\n",
        "print (C) #This will print out the overall output of the program\n",
        "\n",
        "#ANSWER: Based on my opinion and experience, this code doesn't work well because of the given values or elements inside the matrix. \n",
        "#if I'm not mistaken with the similar experience from what we have encountered during our discussion we have replaced value -1 instead of +1. \n",
        "#This wrong input of value leads to an error or not working program. maybe changes of the values or elements inside may change and make the program work.\n",
        "\n"
      ],
      "metadata": {
        "id": "lOQxwfcpNItB",
        "colab": {
          "base_uri": "https://localhost:8080/",
          "height": 131
        },
        "outputId": "fbe066d4-676a-43d2-82d3-c65278899a6a"
      },
      "execution_count": 7,
      "outputs": [
        {
          "output_type": "error",
          "ename": "SyntaxError",
          "evalue": "ignored",
          "traceback": [
            "\u001b[0;36m  File \u001b[0;32m\"<ipython-input-7-0328704cc6b3>\"\u001b[0;36m, line \u001b[0;32m4\u001b[0m\n\u001b[0;31m    A = np.array([3,-1,1], [9,-3,3], [-12,4,-4]]) #This is the given values for matrix\u001b[0m\n\u001b[0m                                               ^\u001b[0m\n\u001b[0;31mSyntaxError\u001b[0m\u001b[0;31m:\u001b[0m invalid syntax\n"
          ]
        }
      ]
    },
    {
      "cell_type": "markdown",
      "source": [
        "##PROBLEM 3.Eigenvalue & Eigenvector##\n"
      ],
      "metadata": {
        "id": "CK0ylHCUOcPp"
      }
    },
    {
      "cell_type": "code",
      "source": [
        "##PROBLEM 3. \n",
        "##1.) Find the eigenvalue/s\n",
        "##2.) Find the eigenvectors\n",
        "import numpy as np\n",
        "\n",
        "print(\"This is the sample matrix given\") #This will show the given matrix\n",
        "A = np.array([[8,5,-6],[-12,-9,12],[-3,-3,5]])\n",
        "print(A)\n",
        "\n",
        "J,M = np.linalg.eig(A)\n",
        "print(\"The eignvalue for the given matrix is/are..\\n\",J) #This will give the value for eigenvalue\n",
        "print(\"The eignvectors for the given matrix is/are..\\n\",M) #This will give the value for eigenvectors"
      ],
      "metadata": {
        "colab": {
          "base_uri": "https://localhost:8080/"
        },
        "id": "W_HUqO5YOZri",
        "outputId": "7709df26-7eab-4076-8a43-d3c3d862a23e"
      },
      "execution_count": null,
      "outputs": [
        {
          "output_type": "stream",
          "name": "stdout",
          "text": [
            "This is the sample matrix given\n",
            "[[  8   5  -6]\n",
            " [-12  -9  12]\n",
            " [ -3  -3   5]]\n",
            "The eignvalue for the given matrix is/are..\n",
            " [-1.  3.  2.]\n",
            "The eignvectors for the given matrix is/are..\n",
            " [[ 3.01511345e-01 -7.07106781e-01  7.07106781e-01]\n",
            " [-9.04534034e-01  7.07106781e-01  1.53837015e-15]\n",
            " [-3.01511345e-01 -2.26120075e-15  7.07106781e-01]]\n"
          ]
        }
      ]
    }
  ]
}
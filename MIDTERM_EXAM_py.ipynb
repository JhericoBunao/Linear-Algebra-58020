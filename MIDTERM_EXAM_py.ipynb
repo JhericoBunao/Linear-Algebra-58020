{
  "nbformat": 4,
  "nbformat_minor": 0,
  "metadata": {
    "colab": {
      "name": "MIDTERM EXAM.py",
      "provenance": [],
      "collapsed_sections": [],
      "authorship_tag": "ABX9TyMc7FGVRj+WH4jnAZYt6Inl",
      "include_colab_link": true
    },
    "kernelspec": {
      "name": "python3",
      "display_name": "Python 3"
    },
    "language_info": {
      "name": "python"
    }
  },
  "cells": [
    {
      "cell_type": "markdown",
      "metadata": {
        "id": "view-in-github",
        "colab_type": "text"
      },
      "source": [
        "<a href=\"https://colab.research.google.com/github/JhericoBunao/Linear-Algebra-58020/blob/main/MIDTERM_EXAM_py.ipynb\" target=\"_parent\"><img src=\"https://colab.research.google.com/assets/colab-badge.svg\" alt=\"Open In Colab\"/></a>"
      ]
    },
    {
      "cell_type": "markdown",
      "metadata": {
        "id": "RJDqaczv4ohw"
      },
      "source": [
        "**Question 1.** **square matrix whose length is 5**"
      ]
    },
    {
      "cell_type": "code",
      "metadata": {
        "colab": {
          "base_uri": "https://localhost:8080/"
        },
        "id": "BYa5vvHm4zzq",
        "outputId": "c1f2e003-6788-46c3-d295-4b6bc1087abd"
      },
      "source": [
        "import numpy as np\n",
        "A = np.array([[1,2,3,6,5],[4,5,6,1,3],[7,8,9,4,5],[2,4,7,8,9],[4,5,6,9,2]])\n",
        "\n",
        "print(A)\n",
        "lengthofmatrix = len(A) #This will measure the length of matrix\n",
        "message = (f'\\n The length of matrix is : {lengthofmatrix}') #This will indicate the length of matrix\n",
        "print(message) #This will print out the overall output of matrix \n"
      ],
      "execution_count": 19,
      "outputs": [
        {
          "output_type": "stream",
          "name": "stdout",
          "text": [
            "[[1 2 3 6 5]\n",
            " [4 5 6 1 3]\n",
            " [7 8 9 4 5]\n",
            " [2 4 7 8 9]\n",
            " [4 5 6 9 2]]\n",
            "\n",
            " The length of matrix is : 5\n"
          ]
        }
      ]
    },
    {
      "cell_type": "markdown",
      "metadata": {
        "id": "MTX8z0Bs8URL"
      },
      "source": [
        "**Question 2. Elements below the principal diagonal are zero**"
      ]
    },
    {
      "cell_type": "code",
      "metadata": {
        "colab": {
          "base_uri": "https://localhost:8080/"
        },
        "id": "hdsZUCbX8q4z",
        "outputId": "479214a3-ba27-4b0b-88ab-2f763d4a2299"
      },
      "source": [
        "A = np.array([[0,2,3,6,5],[4,0,6,1,3],[7,8,0,4,5],[2,4,7,0,9],[4,5,6,9,0]])\n",
        "print(A) #This will print out all the elements inside the array\n",
        "\n",
        "print(\"This is the 0\\'s values included in diagonal\")\n",
        "A = np.diagonal([[0,2,3,6,5],[4,0,6,1,3],[7,8,0,4,5],[2,4,7,0,9],[4,5,6,9,0]])\n",
        "print(A) #This will print out the final ouput of 0 in Diagonal"
      ],
      "execution_count": 25,
      "outputs": [
        {
          "output_type": "stream",
          "name": "stdout",
          "text": [
            "[[0 2 3 6 5]\n",
            " [4 0 6 1 3]\n",
            " [7 8 0 4 5]\n",
            " [2 4 7 0 9]\n",
            " [4 5 6 9 0]]\n",
            "This is the 0's values included in diagonal\n",
            "[0 0 0 0 0]\n"
          ]
        }
      ]
    },
    {
      "cell_type": "markdown",
      "metadata": {
        "id": "Gr3GbNt7-4Ee"
      },
      "source": [
        "**Question 3. square matrix which is symmetrical**"
      ]
    },
    {
      "cell_type": "code",
      "metadata": {
        "colab": {
          "base_uri": "https://localhost:8080/"
        },
        "id": "GxxLah6eAKAF",
        "outputId": "d54d401d-014d-43a2-aa4a-9b6d48bb9efa"
      },
      "source": [
        "import numpy as np\n",
        "matrix = np.array ([[1,2,3,6,5],[4,5,6,1,3],[7,8,9,4,5],[2,4,7,8,9],[4,5,6,9,2]]) #this code will provide symmetrical square matrix\n",
        "\n",
        "print('The symmetrical square matrix')\n",
        "print(matrix)"
      ],
      "execution_count": 42,
      "outputs": [
        {
          "output_type": "stream",
          "name": "stdout",
          "text": [
            "The symmetrical square matrix\n",
            "[[1 2 3 6 5]\n",
            " [4 5 6 1 3]\n",
            " [7 8 9 4 5]\n",
            " [2 4 7 8 9]\n",
            " [4 5 6 9 2]]\n"
          ]
        }
      ]
    },
    {
      "cell_type": "markdown",
      "metadata": {
        "id": "49XCqeCXAIzK"
      },
      "source": [
        "**Question 4. What is the inverse of matrix C**\n"
      ]
    },
    {
      "cell_type": "code",
      "metadata": {
        "colab": {
          "base_uri": "https://localhost:8080/"
        },
        "id": "KqqOf46tASx9",
        "outputId": "6c549619-09ac-40f0-e108-3ad2ef6cce3f"
      },
      "source": [
        "#inverse\n",
        "C= np.array([[1,2,3],[2,3,3],[3,4,-2]])\n",
        "print(C) # This will print out the Original given element from matrix\n",
        "\n",
        "D =(np.linalg.inv(C)) #This will print out the Inverse of matrix\n",
        "print(D)"
      ],
      "execution_count": 27,
      "outputs": [
        {
          "output_type": "stream",
          "name": "stdout",
          "text": [
            "[[ 1  2  3]\n",
            " [ 2  3  3]\n",
            " [ 3  4 -2]]\n",
            "[[-3.6  3.2 -0.6]\n",
            " [ 2.6 -2.2  0.6]\n",
            " [-0.2  0.4 -0.2]]\n"
          ]
        }
      ]
    },
    {
      "cell_type": "markdown",
      "metadata": {
        "id": "tMkObR9pBlU5"
      },
      "source": [
        "**Question 5. determinant of the given matrix in Question 4?**"
      ]
    },
    {
      "cell_type": "code",
      "metadata": {
        "colab": {
          "base_uri": "https://localhost:8080/"
        },
        "id": "cCYYJwprBsC5",
        "outputId": "1cd7b7a8-0aef-44b7-9ec1-29502ea625f6"
      },
      "source": [
        "#determinant\n",
        "C = np.array([[1,2,3],[2,3,3],[3,4,-2]])\n",
        "print(\"Here is the original given Matrix\")\n",
        "print(C) #This will display the original Matrix\n",
        "print(\"The Determinant of Matrix C is\")\n",
        "print(np.linalg.det(C)) #This will print out the determinant of matrix from Q4\n",
        "print(\"This is the Rounded answer of Matrix C\")\n",
        "print(round(np.linalg.det(C))) #This will print out the Rounded of determinant of matrix from Q4"
      ],
      "execution_count": 29,
      "outputs": [
        {
          "output_type": "stream",
          "name": "stdout",
          "text": [
            "Here is the original given Matrix\n",
            "[[ 1  2  3]\n",
            " [ 2  3  3]\n",
            " [ 3  4 -2]]\n",
            "The Determinant of Matrix C is\n",
            "5.000000000000001\n",
            "This is the Rounded answer of Matrix\n",
            "5\n"
          ]
        }
      ]
    },
    {
      "cell_type": "markdown",
      "metadata": {
        "id": "n-cMNqCfC7wO"
      },
      "source": [
        "**Question 6. roots of the linear equations**"
      ]
    },
    {
      "cell_type": "code",
      "metadata": {
        "colab": {
          "base_uri": "https://localhost:8080/"
        },
        "id": "-jk14vtgC_IP",
        "outputId": "970f4371-1125-4d65-9da1-dab9b06837c4"
      },
      "source": [
        "#Roots\n",
        "Equations = np.array([[5,4,1],\n",
        "                      [10,9,4],\n",
        "                      [10,13,15]])\n",
        "print(\"This is the given problem in array.\")\n",
        "print(Equations) #This will print out the array\n",
        "\n",
        "Constants = np.array([[[3.4],\n",
        "                       [8.8],\n",
        "                       [19.2]]])\n",
        "print(\"This is the Roots of given problem\")\n",
        "\n",
        "roots = np.linalg.inv(Equations) @ Constants\n",
        "\n",
        "print(roots) #This will print out the roots\n"
      ],
      "execution_count": 40,
      "outputs": [
        {
          "output_type": "stream",
          "name": "stdout",
          "text": [
            "This is the given problem in array.\n",
            "[[ 5  4  1]\n",
            " [10  9  4]\n",
            " [10 13 15]]\n",
            "This is the Roots of given problem\n",
            "[[[0.2]\n",
            "  [0.4]\n",
            "  [0.8]]]\n"
          ]
        }
      ]
    }
  ]
}